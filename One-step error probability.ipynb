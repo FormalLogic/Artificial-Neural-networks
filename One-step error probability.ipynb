{
 "cells": [
  {
   "cell_type": "markdown",
   "metadata": {},
   "source": [
    "Hopfield models can be used to solve *associative memory problem.* Given that a stored pattern (via hebbs rule) is fed to the network initially, the *one-step error probability* is the probability that the network will output a neuron wrongly in the next asyncrhonous update. <br/>\n",
    "\n",
    "This notebook will run simulation for different sizes of $p$ (amount of stored patterns) while holding the amount of bits $N$ (neurons) constant. The idea is to see the effect on the one-step error probability. For each size of $p$, 100000 independent trials will be run to check the amount of wrong updates and correct. Each independent trial will generate a new set of *p* patterns\n",
    "\n",
    "\n",
    "\n",
    "\n",
    "# Set up\n",
    "\n",
    "The cell below will define constants use in the simulation. Random patterns will be generated where each bit in pattern $\\textbf{x}_i^{(v)}$ is initialized as\n",
    "\n",
    "\n",
    "\\begin{equation}\n",
    "\\text{Prob}(x_i^{(v)}=\\pm 1) = \\frac{1}{2}\n",
    "\\end{equation}\n",
    "\n"
   ]
  },
  {
   "cell_type": "code",
   "execution_count": 7,
   "metadata": {},
   "outputs": [],
   "source": [
    "import numpy as np\n",
    "np.random.seed(209)\n",
    "import pyprind\n",
    "\n",
    "################# pre-define constants ############################\n",
    "\n",
    "\n",
    "p_sizes = [12,24,48,70,100,120]\n",
    "\n",
    "n_independent_trials = 100000\n",
    "\n",
    "N_neurons = 120\n",
    "\n",
    "\n",
    "\n",
    "################### Generate the patterns ########################\n",
    "def create_p_randomPatterns(p):\n",
    "    p_patterns = []\n",
    "    for i in range(p):\n",
    "        pattern = np.asarray(list(map(lambda x: -1 if x==0 else 1, \n",
    "                                      np.random.randint(2, size=N_neurons))))\n",
    "        p_patterns.append(pattern)\n",
    "    return np.asarray(p_patterns)\n",
    "\n",
    "\n",
    "\n"
   ]
  },
  {
   "cell_type": "markdown",
   "metadata": {},
   "source": [
    "An example of the random pattern will be shown here in an 10 by 12 grid. "
   ]
  },
  {
   "cell_type": "code",
   "execution_count": 8,
   "metadata": {
    "scrolled": true
   },
   "outputs": [
    {
     "data": {
      "text/plain": [
       "<function matplotlib.pyplot.show(*args, **kw)>"
      ]
     },
     "execution_count": 8,
     "metadata": {},
     "output_type": "execute_result"
    },
    {
     "data": {
      "image/png": "[encoded data removed]",
      "text/plain": [
       "<Figure size 432x288 with 1 Axes>"
      ]
     },
     "metadata": {
      "needs_background": "light"
     },
     "output_type": "display_data"
    }
   ],
   "source": [
    "from matplotlib import pyplot as plt\n",
    "%matplotlib inline\n",
    "\n",
    "pattern = create_p_randomPatterns(12)\n",
    "plt.title('Example of a random pattern',size=15)\n",
    "plt.imshow(pattern[0].reshape(10,12))\n",
    "plt.show"
   ]
  },
  {
   "cell_type": "markdown",
   "metadata": {},
   "source": [
    "# Hebbs rule\n",
    "\n",
    "*Hebbs rule* will be used to store the patterns in the network. Each element in the weight matrix will be assigned as follows\n",
    "\n",
    "\n",
    "\\begin{equation}\n",
    "w_{ij} = \\frac{1}{N} \\sum_{\\mu=1}^{p}x_i^{(\\mu)}x_j^{(\\mu)} \\quad \\text{and} \\quad \\theta_i=0\n",
    "\\end{equation}\n",
    "\n",
    "- $p$ is refering to the amount of stored patterns and $x_i^{(\\mu)}$ is referring to bit $i$ for pattern $\\mu$ <br />\n",
    "- To speed up the experiment, only the neccessary row $i$ will be computed and used to update neuron $i$ \n",
    "\n"
   ]
  },
  {
   "cell_type": "code",
   "execution_count": 9,
   "metadata": {},
   "outputs": [],
   "source": [
    "def generateWeightMatrix(storedPatterns, neuron_i):   \n",
    "    W = np.zeros(N_neurons)                 \n",
    "    for j in range(N_neurons):           \n",
    "        Sum = 0\n",
    "        if(j==neuron_i):               \n",
    "            W[j]= 0\n",
    "        else:\n",
    "            for u in range(len(storedPatterns)):              \n",
    "                Sum = Sum + storedPatterns[u][neuron_i]*storedPatterns[u][j]\n",
    "            W[j] = Sum/N_neurons\n",
    "    return W\n",
    "    \n",
    "\n"
   ]
  },
  {
   "cell_type": "markdown",
   "metadata": {},
   "source": [
    "# Running the simulation\n",
    "\n",
    "Let $S_i$ be the state of neuron $i$. A random neuron $i$ will be randomly chosen to be asynchrounsly updated according to the following rule\n",
    "\n",
    "\\begin{equation}\n",
    "S_i \\leftarrow{} \\text{sgn} \\bigg( \\sum_{j} w_{ij} S_j  \\bigg) \n",
    "\\end{equation}\n",
    "\n",
    "\n",
    "- The left arrow sign means that $S_i$ will be assigned r.h.s of the equation after the update. <br/>\n",
    "\n",
    "- *alpha* is the storage parameter which is defined as $\\alpha = \\frac{p}{N}$"
   ]
  },
  {
   "cell_type": "code",
   "execution_count": 10,
   "metadata": {
    "scrolled": false
   },
   "outputs": [
    {
     "name": "stdout",
     "output_type": "stream",
     "text": [
      "Done 10000 experiments\n",
      "Done 10000 experiments\n",
      "Done 10000 experiments\n",
      "Done 10000 experiments\n",
      "Done 10000 experiments\n",
      "Done 10000 experiments\n",
      "Done 10000 experiments\n",
      "Done 10000 experiments\n",
      "Done 10000 experiments\n",
      "Done 10000 experiments\n"
     ]
    },
    {
     "name": "stderr",
     "output_type": "stream",
     "text": [
      "\r",
      "0% [#     ] 100% | ETA: 00:49:59"
     ]
    },
    {
     "name": "stdout",
     "output_type": "stream",
     "text": [
      "Counter({'Correct update': 99950, 'Error update': 50})\n",
      "Done  for p=12\n",
      "Done 10000 experiments\n",
      "Done 10000 experiments\n",
      "Done 10000 experiments\n",
      "Done 10000 experiments\n",
      "Done 10000 experiments\n",
      "Done 10000 experiments\n",
      "Done 10000 experiments\n",
      "Done 10000 experiments\n",
      "Done 10000 experiments\n",
      "Done 10000 experiments\n",
      "Counter({'Correct update': 98840, 'Error update': 1160})\n",
      "Done  for p=24\n",
      "Done 10000 experiments\n",
      "Done 10000 experiments\n",
      "Done 10000 experiments\n",
      "Done 10000 experiments\n",
      "Done 10000 experiments\n",
      "Done 10000 experiments\n",
      "Done 10000 experiments\n",
      "Done 10000 experiments\n",
      "Done 10000 experiments\n",
      "Done 10000 experiments\n"
     ]
    },
    {
     "name": "stderr",
     "output_type": "stream",
     "text": [
      "\r",
      "0% [###   ] 100% | ETA: 01:06:54"
     ]
    },
    {
     "name": "stdout",
     "output_type": "stream",
     "text": [
      "Counter({'Correct update': 94450, 'Error update': 5550})\n",
      "Done  for p=48\n",
      "Done 10000 experiments\n",
      "Done 10000 experiments\n",
      "Done 10000 experiments\n",
      "Done 10000 experiments\n",
      "Done 10000 experiments\n",
      "Done 10000 experiments\n",
      "Done 10000 experiments\n",
      "Done 10000 experiments\n",
      "Done 10000 experiments\n",
      "Done 10000 experiments\n"
     ]
    },
    {
     "name": "stderr",
     "output_type": "stream",
     "text": [
      "\r",
      "0% [####  ] 100% | ETA: 02:25:44"
     ]
    },
    {
     "name": "stdout",
     "output_type": "stream",
     "text": [
      "Counter({'Correct update': 90415, 'Error update': 9585})\n",
      "Done  for p=70\n",
      "Done 10000 experiments\n",
      "Done 10000 experiments\n",
      "Done 10000 experiments\n",
      "Done 10000 experiments\n",
      "Done 10000 experiments\n",
      "Done 10000 experiments\n",
      "Done 10000 experiments\n",
      "Done 10000 experiments\n",
      "Done 10000 experiments\n",
      "Done 10000 experiments\n",
      "Counter({'Correct update': 86419, 'Error update': 13581})\n",
      "Done  for p=100\n",
      "Done 10000 experiments\n",
      "Done 10000 experiments\n",
      "Done 10000 experiments\n",
      "Done 10000 experiments\n",
      "Done 10000 experiments\n",
      "Done 10000 experiments\n",
      "Done 10000 experiments\n",
      "Done 10000 experiments\n",
      "Done 10000 experiments\n",
      "Done 10000 experiments\n"
     ]
    },
    {
     "name": "stderr",
     "output_type": "stream",
     "text": [
      "0% [######] 100% | ETA: 00:00:00"
     ]
    },
    {
     "name": "stdout",
     "output_type": "stream",
     "text": [
      "Counter({'Correct update': 84328, 'Error update': 15672})\n",
      "Done  for p=120\n"
     ]
    },
    {
     "name": "stderr",
     "output_type": "stream",
     "text": [
      "\n",
      "Total time elapsed: 07:56:57\n"
     ]
    },
    {
     "data": {
      "image/png": "[encoded data removed]",
      "text/plain": [
       "<Figure size 432x288 with 1 Axes>"
      ]
     },
     "metadata": {
      "needs_background": "light"
     },
     "output_type": "display_data"
    }
   ],
   "source": [
    "from sklearn.metrics import accuracy_score\n",
    "import pyprind\n",
    "from collections import Counter\n",
    "import time\n",
    "\n",
    "Results = {}\n",
    "\n",
    "for p in pyprind.prog_bar(p_sizes): \n",
    "    trials = []\n",
    "    for i in range(n_independent_trials):\n",
    "        \n",
    "        storedPatterns = create_p_randomPatterns(p)\n",
    "        \n",
    "        selectedPattern = storedPatterns[np.random.choice(np.arange(len(storedPatterns))\n",
    "                                                          ,1)][0]    \n",
    "        selectedNeuron = np.random.choice(np.arange(N_neurons), 1)\n",
    "        Weights_neuron_selected = generateWeightMatrix(storedPatterns, selectedNeuron)\n",
    "        \n",
    "        #Perform one update on a randomly selected neuron\n",
    "        updatedNeuron  = np.sign(np.dot(Weights_neuron_selected,\n",
    "                                        selectedPattern.T))\n",
    "        if(updatedNeuron==0):\n",
    "            updatedNeuron = 1\n",
    "        if(selectedPattern[selectedNeuron] == updatedNeuron):#Network updated correctly\n",
    "            trials.append('Correct update')\n",
    "        if(selectedPattern[selectedNeuron] != updatedNeuron):#didn't update correctly\n",
    "            trials.append('Error update')\n",
    "            \n",
    "        if(i%10000==0):\n",
    "            print('Done 10000 experiments')\n",
    "        \n",
    "        \n",
    "    Results[str(p)] = trials    \n",
    "    print(Counter(trials))\n",
    "    print('Done  for p={0}'.format(p))\n",
    "    \n",
    "\n",
    "\n",
    "    \n",
    "############################# Plotting ###############################\n",
    "Prob_1_error_for_p_sizes = []          \n",
    "for result in Results.values():#Store the results in a vector for used for plotting\n",
    "    counts = Counter(result)\n",
    "    Prob_1_error_for_p_sizes.append(counts['Error update']/n_independent_trials)\n",
    "    \n",
    "    \n",
    "plt.title('Storage')\n",
    "plt.plot([x / N_neurons for x in p_sizes],Prob_1_error_for_p_sizes)\n",
    "plt.xlabel('alpha')\n",
    "plt.ylabel('Probability')\n",
    "plt.show()\n"
   ]
  },
  {
   "cell_type": "code",
   "execution_count": 11,
   "metadata": {},
   "outputs": [
    {
     "name": "stdout",
     "output_type": "stream",
     "text": [
      "[0.0005, 0.0116, 0.0555, 0.09585, 0.13581, 0.15672]\n"
     ]
    }
   ],
   "source": [
    "print(Prob_1_error_for_p_sizes)"
   ]
  },
  {
   "cell_type": "markdown",
   "metadata": {},
   "source": [
    "## Re-running the experiment with modified hebbs rule\n",
    "\n",
    "This simulation will re-run the previous experiment but modifying hebbs rule where the diagonal matrix is not set to zero"
   ]
  },
  {
   "cell_type": "code",
   "execution_count": 3,
   "metadata": {},
   "outputs": [],
   "source": [
    "def generateWeightMatrix(storedPatterns, neuron_i):  \n",
    "    W = np.zeros(N_neurons)                 \n",
    "    #for i in range(np.size(W,0)):               \n",
    "    for j in range(N_neurons):           \n",
    "        Sum = 0\n",
    "        #if(j==neuron_i):               \n",
    "        #    W[j]= 0\n",
    "        #else:\n",
    "        for u in range(len(storedPatterns)):              \n",
    "            Sum = Sum + storedPatterns[u][neuron_i]*storedPatterns[u][j]\n",
    "        W[j] = Summation/N_neurons\n",
    "    return W\n"
   ]
  },
  {
   "cell_type": "code",
   "execution_count": 4,
   "metadata": {},
   "outputs": [
    {
     "name": "stdout",
     "output_type": "stream",
     "text": [
      "Done 10000 experiments\n",
      "Done 10000 experiments\n",
      "Done 10000 experiments\n",
      "Done 10000 experiments\n",
      "Done 10000 experiments\n",
      "Done 10000 experiments\n",
      "Done 10000 experiments\n",
      "Done 10000 experiments\n",
      "Done 10000 experiments\n",
      "Done 10000 experiments\n"
     ]
    },
    {
     "name": "stderr",
     "output_type": "stream",
     "text": [
      "\r",
      "0% [#     ] 100% | ETA: 00:47:04"
     ]
    },
    {
     "name": "stdout",
     "output_type": "stream",
     "text": [
      "Counter({'Correct update': 99983, 'Error update': 17})\n",
      "Done  for p=12\n",
      "Done 10000 experiments\n",
      "Done 10000 experiments\n",
      "Done 10000 experiments\n",
      "Done 10000 experiments\n",
      "Done 10000 experiments\n",
      "Done 10000 experiments\n",
      "Done 10000 experiments\n",
      "Done 10000 experiments\n",
      "Done 10000 experiments\n",
      "Done 10000 experiments\n",
      "Counter({'Correct update': 99687, 'Error update': 313})\n",
      "Done  for p=24\n",
      "Done 10000 experiments\n",
      "Done 10000 experiments\n",
      "Done 10000 experiments\n",
      "Done 10000 experiments\n",
      "Done 10000 experiments\n",
      "Done 10000 experiments\n",
      "Done 10000 experiments\n",
      "Done 10000 experiments\n",
      "Done 10000 experiments\n",
      "Done 10000 experiments\n"
     ]
    },
    {
     "name": "stderr",
     "output_type": "stream",
     "text": [
      "\r",
      "0% [###   ] 100% | ETA: 01:04:24"
     ]
    },
    {
     "name": "stdout",
     "output_type": "stream",
     "text": [
      "Counter({'Correct update': 98750, 'Error update': 1250})\n",
      "Done  for p=48\n",
      "Done 10000 experiments\n",
      "Done 10000 experiments\n",
      "Done 10000 experiments\n",
      "Done 10000 experiments\n",
      "Done 10000 experiments\n",
      "Done 10000 experiments\n",
      "Done 10000 experiments\n",
      "Done 10000 experiments\n",
      "Done 10000 experiments\n",
      "Done 10000 experiments\n"
     ]
    },
    {
     "name": "stderr",
     "output_type": "stream",
     "text": [
      "\r",
      "0% [####  ] 100% | ETA: 00:58:44"
     ]
    },
    {
     "name": "stdout",
     "output_type": "stream",
     "text": [
      "Counter({'Correct update': 98156, 'Error update': 1844})\n",
      "Done  for p=70\n",
      "Done 10000 experiments\n",
      "Done 10000 experiments\n",
      "Done 10000 experiments\n",
      "Done 10000 experiments\n",
      "Done 10000 experiments\n",
      "Done 10000 experiments\n",
      "Done 10000 experiments\n",
      "Done 10000 experiments\n",
      "Done 10000 experiments\n",
      "Done 10000 experiments\n",
      "Counter({'Correct update': 97774, 'Error update': 2226})\n",
      "Done  for p=100\n",
      "Done 10000 experiments\n",
      "Done 10000 experiments\n",
      "Done 10000 experiments\n",
      "Done 10000 experiments\n",
      "Done 10000 experiments\n",
      "Done 10000 experiments\n",
      "Done 10000 experiments\n",
      "Done 10000 experiments\n",
      "Done 10000 experiments\n",
      "Done 10000 experiments\n"
     ]
    },
    {
     "name": "stderr",
     "output_type": "stream",
     "text": [
      "0% [######] 100% | ETA: 00:00:00"
     ]
    },
    {
     "name": "stdout",
     "output_type": "stream",
     "text": [
      "Counter({'Correct update': 97855, 'Error update': 2145})\n",
      "Done  for p=120\n"
     ]
    },
    {
     "name": "stderr",
     "output_type": "stream",
     "text": [
      "\n",
      "Total time elapsed: 04:43:57\n"
     ]
    },
    {
     "data": {
      "image/png": "[encoded data removed]",
      "text/plain": [
       "<Figure size 432x288 with 1 Axes>"
      ]
     },
     "metadata": {
      "needs_background": "light"
     },
     "output_type": "display_data"
    }
   ],
   "source": [
    "from sklearn.metrics import accuracy_score\n",
    "import pyprind\n",
    "from collections import Counter\n",
    "import time\n",
    "\n",
    "\n",
    "Results = {}\n",
    "\n",
    "for p in pyprind.prog_bar(p_sizes): \n",
    "    trials = []\n",
    "    for i in range(n_independent_trials):\n",
    "        \n",
    "        storedPatterns = create_p_randomPatterns(p)\n",
    "        \n",
    "        selectedPattern = storedPatterns[np.random.choice(np.arange(len(storedPatterns))\n",
    "                                                          ,1)][0]    \n",
    "        selectedNeuron = np.random.choice(np.arange(N_neurons), 1)\n",
    "        Weights_neuron_selected = generateWeightMatrix(storedPatterns, selectedNeuron)\n",
    "        \n",
    "        #Perform one update on a randomly selected neuron\n",
    "        updatedNeuron  = np.sign(np.dot(Weights_neuron_selected,\n",
    "                                        selectedPattern.T))\n",
    "        if(updatedNeuron==0):\n",
    "            updatedNeuron = 1\n",
    "        if(selectedPattern[selectedNeuron] == updatedNeuron):#network updated correctly\n",
    "            trials.append('Correct update')\n",
    "        if(selectedPattern[selectedNeuron] != updatedNeuron):#didn't update correctly\n",
    "            trials.append('Error update')\n",
    "            \n",
    "        if(i%10000==0):\n",
    "            print('Done 10000 experiments')\n",
    "        \n",
    "        \n",
    "    Results[str(p)] = trials    \n",
    "    print(Counter(trials))\n",
    "    print('Done  for p={0}'.format(p))\n",
    "    \n",
    "\n",
    "\n",
    "    \n",
    "############################# Plotting ###############################\n",
    "Prob_1_error_for_p_sizes = []          \n",
    "for result in Results.values():#Store the results in a vector for used for plotting\n",
    "    counts = Counter(result)\n",
    "    Prob_1_error_for_p_sizes.append(counts['Error update']/n_independent_trials)\n",
    "    \n",
    "    \n",
    "plt.title('Storage')\n",
    "plt.plot([x / N_neurons for x in p_sizes],Prob_1_error_for_p_sizes)\n",
    "plt.xlabel('alpha')\n",
    "plt.ylabel('Probability')\n",
    "plt.show()\n"
   ]
  },
  {
   "cell_type": "markdown",
   "metadata": {},
   "source": [
    "## Conclusions\n",
    "\n",
    "- If the number of bits (neurons) are constant, increasing the number of stored patterns will increase the one-step error probability\n",
    "\n",
    "- The modified hebb's (zero diagonal) rule produces diffent results from the standard hebbs rule"
   ]
  }
 ],
 "metadata": {
  "kernelspec": {
   "display_name": "Python 3",
   "language": "python",
   "name": "python3"
  },
  "language_info": {
   "codemirror_mode": {
    "name": "ipython",
    "version": 3
   },
   "file_extension": ".py",
   "mimetype": "text/x-python",
   "name": "python",
   "nbconvert_exporter": "python",
   "pygments_lexer": "ipython3",
   "version": "3.7.1"
  }
 },
 "nbformat": 4,
 "nbformat_minor": 2
}
